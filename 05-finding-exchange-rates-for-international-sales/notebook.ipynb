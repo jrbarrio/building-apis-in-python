{
 "cells": [
  {
   "cell_type": "markdown",
   "id": "377201b3-e64a-46d5-87fc-3ec811e8b349",
   "metadata": {
    "collapsed": false,
    "jupyter": {
     "outputs_hidden": false,
     "source_hidden": false
    }
   },
   "source": [
    "![Header image](resources/image.jpg)\n",
    "\n",
    "Exciting times! \n",
    "\n",
    "You've been running our very successful gadget webshop 'DataGadgets' for a few years and have recently expanded into new territories. While you've been focussed on the US market for the first five years of our existence, you now are shipping our cool data gadgets to the UK and Europe, too! But now our in-house built reporting has broken! Transactions don't only come in USD, but you're also receiving transactions in EUR and GPB. \n",
    "\n",
    "To better understand the volume of transactions being made, you should convert the non-USD transactions to USD and sum up the total. To do this, however, you'll need to use the proper exchange rates. \n",
    "\n",
    "In this project, you'll start with a CSV file containing all e-commerce transactions made on January 21st, but in their original currencies. Your job is to calculate the total sum in USD of all transactions so you know how much USD you sold on January 21st. To do this, you'll need to convert any non-USD transactions to USD using the exchange rate from January 21st, 2024. \n",
    "\n",
    "To get the exchange rates from January 21st, 2024, you'll rely on [VAT Comply rates API's](https://www.vatcomply.com/documentation#rates) public and free currency exchange API. You'll also use `pandas` to load the CSV file into a DataFrame and the `requests` package to make interacting with the API easier. \n",
    "\n",
    "You need to update the `orders` DataFrame so the final version has two new columns: `exchange_rate` and `amount_usd`. The final version should look as follows:\n",
    "\n",
    "| `amount` | `currency` | `exchange_rate` | `amount_usd` |\n",
    "|-|-|-|-|\n",
    "| 43.75 | EUR | ... | ... |\n",
    "| 385.5 | GBP | ... | ... |\n",
    "| 495.5 | GBP | ... | ... |\n",
    "| 117.99 | GBP | ... | ... |\n",
    "| 624 | USD | ... | ... |"
   ]
  },
  {
   "cell_type": "code",
   "execution_count": 1,
   "id": "1a3a3879-8758-438c-9062-c24f4d8a15e1",
   "metadata": {
    "executionCancelledAt": null,
    "executionTime": null,
    "lastExecutedAt": null,
    "lastExecutedByKernel": null,
    "lastScheduledRunId": null,
    "lastSuccessfullyExecutedCode": null,
    "outputsMetadata": {
     "0": {
      "height": 550,
      "tableState": {},
      "type": "dataFrame"
     }
    }
   },
   "outputs": [
    {
     "data": {
      "application/vnd.microsoft.datawrangler.viewer.v0+json": {
       "columns": [
        {
         "name": "index",
         "rawType": "int64",
         "type": "integer"
        },
        {
         "name": "amount",
         "rawType": "float64",
         "type": "float"
        },
        {
         "name": "currency",
         "rawType": "object",
         "type": "string"
        }
       ],
       "conversionMethod": "pd.DataFrame",
       "ref": "0470e872-6c24-4cdd-a934-66dfa23eec8d",
       "rows": [
        [
         "0",
         "43.75",
         "EUR"
        ],
        [
         "1",
         "385.5",
         "GBP"
        ],
        [
         "2",
         "495.5",
         "GBP"
        ],
        [
         "3",
         "117.99",
         "GBP"
        ],
        [
         "4",
         "624.0",
         "USD"
        ]
       ],
       "shape": {
        "columns": 2,
        "rows": 5
       }
      },
      "text/html": [
       "<div>\n",
       "<style scoped>\n",
       "    .dataframe tbody tr th:only-of-type {\n",
       "        vertical-align: middle;\n",
       "    }\n",
       "\n",
       "    .dataframe tbody tr th {\n",
       "        vertical-align: top;\n",
       "    }\n",
       "\n",
       "    .dataframe thead th {\n",
       "        text-align: right;\n",
       "    }\n",
       "</style>\n",
       "<table border=\"1\" class=\"dataframe\">\n",
       "  <thead>\n",
       "    <tr style=\"text-align: right;\">\n",
       "      <th></th>\n",
       "      <th>amount</th>\n",
       "      <th>currency</th>\n",
       "    </tr>\n",
       "  </thead>\n",
       "  <tbody>\n",
       "    <tr>\n",
       "      <th>0</th>\n",
       "      <td>43.75</td>\n",
       "      <td>EUR</td>\n",
       "    </tr>\n",
       "    <tr>\n",
       "      <th>1</th>\n",
       "      <td>385.50</td>\n",
       "      <td>GBP</td>\n",
       "    </tr>\n",
       "    <tr>\n",
       "      <th>2</th>\n",
       "      <td>495.50</td>\n",
       "      <td>GBP</td>\n",
       "    </tr>\n",
       "    <tr>\n",
       "      <th>3</th>\n",
       "      <td>117.99</td>\n",
       "      <td>GBP</td>\n",
       "    </tr>\n",
       "    <tr>\n",
       "      <th>4</th>\n",
       "      <td>624.00</td>\n",
       "      <td>USD</td>\n",
       "    </tr>\n",
       "  </tbody>\n",
       "</table>\n",
       "</div>"
      ],
      "text/plain": [
       "   amount currency\n",
       "0   43.75      EUR\n",
       "1  385.50      GBP\n",
       "2  495.50      GBP\n",
       "3  117.99      GBP\n",
       "4  624.00      USD"
      ]
     },
     "execution_count": 1,
     "metadata": {},
     "output_type": "execute_result"
    }
   ],
   "source": [
    "# Import required packages/libraries\n",
    "import pandas as pd\n",
    "import requests\n",
    "\n",
    "# Read the CSV file into a DataFrame\n",
    "orders = pd.read_csv('data/orders-2024-01-21.csv')\n",
    "orders.head()"
   ]
  },
  {
   "cell_type": "code",
   "execution_count": 2,
   "id": "53db96bd-df3b-4d11-8d2d-d283fa11952a",
   "metadata": {},
   "outputs": [
    {
     "name": "stdout",
     "output_type": "stream",
     "text": [
      "326864.39599246805\n"
     ]
    }
   ],
   "source": [
    "# Get exchange rates from API\n",
    "request_url = 'https://api.vatcomply.com/rates'\n",
    "params = {\n",
    "    'date' : '2024-01-21',\n",
    "    'base': 'USD'\n",
    "} \n",
    "response = requests.get(request_url, params=params)\n",
    "rates = response.json()['rates']\n",
    "\n",
    "# Apply exchange rates\n",
    "orders['exchange_rate'] = orders['currency'].map(rates)\n",
    "\n",
    "# Alternatively, manually create each of the exchange_rate values in the DataFrame, e.g.,\n",
    "# orders['exchange_rate'] = 0\n",
    "# orders.loc[orders['currency'] == 'EUR', 'exchange_rate'] = rates['EUR'] \n",
    "# orders.loc[orders['currency'] == 'GBP', 'exchange_rate'] = rates['GBP']\n",
    "# orders.loc[orders['currency'] == 'USD', 'exchange_rate'] = rates['USD']\n",
    "\n",
    "# Calculate sales in US dollars\n",
    "orders['amount_usd'] = orders['amount'] * orders['exchange_rate']\n",
    "\n",
    "# Find the total amount of sales in US dollars\n",
    "total_usd_sales = orders['amount_usd'].sum()\n",
    "\n",
    "print(total_usd_sales)\n"
   ]
  },
  {
   "cell_type": "code",
   "execution_count": 3,
   "id": "3290b9b7",
   "metadata": {},
   "outputs": [
    {
     "name": "stdout",
     "output_type": "stream",
     "text": [
      "   amount currency  exchange_rate  amount_usd\n",
      "0   43.75      EUR       0.918527   40.185542\n",
      "1  385.50      GBP       0.788326  303.899490\n",
      "2  495.50      GBP       0.788326  390.615298\n",
      "3  117.99      GBP       0.788326   93.014529\n",
      "4  624.00      USD       1.000000  624.000000\n"
     ]
    }
   ],
   "source": [
    "print(orders.head())"
   ]
  }
 ],
 "metadata": {
  "editor": "DataLab",
  "kernelspec": {
   "display_name": "building-apis-in-python",
   "language": "python",
   "name": "python3"
  },
  "language_info": {
   "codemirror_mode": {
    "name": "ipython",
    "version": 3
   },
   "file_extension": ".py",
   "mimetype": "text/x-python",
   "name": "python",
   "nbconvert_exporter": "python",
   "pygments_lexer": "ipython3",
   "version": "3.9.20"
  }
 },
 "nbformat": 4,
 "nbformat_minor": 5
}
